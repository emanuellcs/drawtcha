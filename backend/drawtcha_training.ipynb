{
  "cells": [
    {
      "cell_type": "markdown",
      "metadata": {
        "id": "RFX4b7DheemS"
      },
      "source": [
        "# Drawtcha: Unified CNN and RNN Model Training\n",
        "\n",
        "This notebook combines the training of the two AI models for the Drawtcha project into a single file. It will:\n",
        "1.  Train the **CNN Model** on image (bitmap) data.\n",
        "2.  Save the model as `cnn_model_tf.keras`.\n",
        "3.  Clear the system memory.\n",
        "4.  Train the **RNN Model** on sequential stroke data.\n",
        "5.  Save the model as `rnn_model_tf.keras`."
      ]
    },
    {
      "cell_type": "markdown",
      "metadata": {
        "id": "itmGy9nReemU"
      },
      "source": [
        "## 0. Initial Setup\n",
        "Imports all necessary libraries for both models and defines the categories."
      ]
    },
    {
      "cell_type": "code",
      "execution_count": 1,
      "metadata": {
        "id": "1J-GhtbWeemV"
      },
      "outputs": [],
      "source": [
        "import tensorflow as tf\n",
        "import numpy as np\n",
        "import os\n",
        "import urllib.request\n",
        "import json\n",
        "import gc\n",
        "from tensorflow.keras.callbacks import EarlyStopping\n",
        "from sklearn.model_selection import train_test_split\n",
        "\n",
        "CATEGORIES = [\"cat\", \"bicycle\", \"tree\", \"fish\", \"star\"]"
      ]
    },
    {
      "cell_type": "markdown",
      "metadata": {
        "id": "9NR0bfoeeemX"
      },
      "source": [
        "---\n",
        "\n",
        "## Part 1: CNN Model Training (Image Analysis)"
      ]
    },
    {
      "cell_type": "markdown",
      "metadata": {
        "id": "AU9NnCSzeemY"
      },
      "source": [
        "### 1.1. CNN Data Preparation (Bitmap)"
      ]
    },
    {
      "cell_type": "code",
      "execution_count": 2,
      "metadata": {
        "colab": {
          "base_uri": "https://localhost:8080/"
        },
        "id": "g_JYFNuoeemY",
        "outputId": "20d1ded4-4f3b-49d4-c864-aaa9523b46e4"
      },
      "outputs": [
        {
          "output_type": "stream",
          "name": "stdout",
          "text": [
            "--- Downloading data for the CNN ---\n",
            "Downloading cat.npy...\n",
            "Downloading bicycle.npy...\n",
            "Downloading tree.npy...\n",
            "Downloading fish.npy...\n",
            "Downloading star.npy...\n",
            "\n",
            "Image processing complete. Shape: (666219, 28, 28, 1)\n"
          ]
        }
      ],
      "source": [
        "BASE_URL_BITMAP = \"https://storage.googleapis.com/quickdraw_dataset/full/numpy_bitmap/\"\n",
        "RAW_DATA_DIR_CNN = \"data/raw_bitmap\"\n",
        "\n",
        "if not os.path.exists(RAW_DATA_DIR_CNN):\n",
        "    os.makedirs(RAW_DATA_DIR_CNN)\n",
        "\n",
        "print(\"--- Downloading data for the CNN ---\")\n",
        "for category in CATEGORIES:\n",
        "    url = f\"{BASE_URL_BITMAP}{category}.npy\"\n",
        "    filepath = os.path.join(RAW_DATA_DIR_CNN, f\"{category}.npy\")\n",
        "    if not os.path.exists(filepath):\n",
        "        print(f\"Downloading {category}.npy...\")\n",
        "        urllib.request.urlretrieve(url, filepath)\n",
        "    else:\n",
        "        print(f\"{category}.npy already exists.\")\n",
        "\n",
        "all_images = []\n",
        "all_labels_cnn = []\n",
        "for i, category in enumerate(CATEGORIES):\n",
        "    filepath = os.path.join(RAW_DATA_DIR_CNN, f\"{category}.npy\")\n",
        "    data = np.load(filepath)\n",
        "    images = data.reshape(-1, 28, 28, 1).astype('float32') / 255.0\n",
        "    all_images.append(images)\n",
        "    labels = np.full(images.shape[0], i)\n",
        "    all_labels_cnn.append(labels)\n",
        "\n",
        "final_images = np.concatenate(all_images, axis=0)\n",
        "final_labels_cnn = np.concatenate(all_labels_cnn, axis=0)\n",
        "print(f\"\\nImage processing complete. Shape: {final_images.shape}\")"
      ]
    },
    {
      "cell_type": "markdown",
      "metadata": {
        "id": "FZsvOdGCeemZ"
      },
      "source": [
        "### 1.2. CNN Model Definition and Training"
      ]
    },
    {
      "cell_type": "code",
      "execution_count": 3,
      "metadata": {
        "colab": {
          "base_uri": "https://localhost:8080/",
          "height": 740
        },
        "id": "4aauCc8Meema",
        "outputId": "e8e3df34-408b-48af-cc72-992b811db17e"
      },
      "outputs": [
        {
          "output_type": "stream",
          "name": "stderr",
          "text": [
            "/usr/local/lib/python3.11/dist-packages/keras/src/layers/convolutional/base_conv.py:107: UserWarning: Do not pass an `input_shape`/`input_dim` argument to a layer. When using Sequential models, prefer using an `Input(shape)` object as the first layer in the model instead.\n",
            "  super().__init__(activity_regularizer=activity_regularizer, **kwargs)\n"
          ]
        },
        {
          "output_type": "display_data",
          "data": {
            "text/plain": [
              "\u001b[1mModel: \"sequential\"\u001b[0m\n"
            ],
            "text/html": [
              "<pre style=\"white-space:pre;overflow-x:auto;line-height:normal;font-family:Menlo,'DejaVu Sans Mono',consolas,'Courier New',monospace\"><span style=\"font-weight: bold\">Model: \"sequential\"</span>\n",
              "</pre>\n"
            ]
          },
          "metadata": {}
        },
        {
          "output_type": "display_data",
          "data": {
            "text/plain": [
              "┏━━━━━━━━━━━━━━━━━━━━━━━━━━━━━━━━━┳━━━━━━━━━━━━━━━━━━━━━━━━┳━━━━━━━━━━━━━━━┓\n",
              "┃\u001b[1m \u001b[0m\u001b[1mLayer (type)                   \u001b[0m\u001b[1m \u001b[0m┃\u001b[1m \u001b[0m\u001b[1mOutput Shape          \u001b[0m\u001b[1m \u001b[0m┃\u001b[1m \u001b[0m\u001b[1m      Param #\u001b[0m\u001b[1m \u001b[0m┃\n",
              "┡━━━━━━━━━━━━━━━━━━━━━━━━━━━━━━━━━╇━━━━━━━━━━━━━━━━━━━━━━━━╇━━━━━━━━━━━━━━━┩\n",
              "│ conv2d (\u001b[38;5;33mConv2D\u001b[0m)                 │ (\u001b[38;5;45mNone\u001b[0m, \u001b[38;5;34m26\u001b[0m, \u001b[38;5;34m26\u001b[0m, \u001b[38;5;34m64\u001b[0m)     │           \u001b[38;5;34m640\u001b[0m │\n",
              "├─────────────────────────────────┼────────────────────────┼───────────────┤\n",
              "│ max_pooling2d (\u001b[38;5;33mMaxPooling2D\u001b[0m)    │ (\u001b[38;5;45mNone\u001b[0m, \u001b[38;5;34m13\u001b[0m, \u001b[38;5;34m13\u001b[0m, \u001b[38;5;34m64\u001b[0m)     │             \u001b[38;5;34m0\u001b[0m │\n",
              "├─────────────────────────────────┼────────────────────────┼───────────────┤\n",
              "│ conv2d_1 (\u001b[38;5;33mConv2D\u001b[0m)               │ (\u001b[38;5;45mNone\u001b[0m, \u001b[38;5;34m11\u001b[0m, \u001b[38;5;34m11\u001b[0m, \u001b[38;5;34m128\u001b[0m)    │        \u001b[38;5;34m73,856\u001b[0m │\n",
              "├─────────────────────────────────┼────────────────────────┼───────────────┤\n",
              "│ max_pooling2d_1 (\u001b[38;5;33mMaxPooling2D\u001b[0m)  │ (\u001b[38;5;45mNone\u001b[0m, \u001b[38;5;34m5\u001b[0m, \u001b[38;5;34m5\u001b[0m, \u001b[38;5;34m128\u001b[0m)      │             \u001b[38;5;34m0\u001b[0m │\n",
              "├─────────────────────────────────┼────────────────────────┼───────────────┤\n",
              "│ flatten (\u001b[38;5;33mFlatten\u001b[0m)               │ (\u001b[38;5;45mNone\u001b[0m, \u001b[38;5;34m3200\u001b[0m)           │             \u001b[38;5;34m0\u001b[0m │\n",
              "├─────────────────────────────────┼────────────────────────┼───────────────┤\n",
              "│ dense (\u001b[38;5;33mDense\u001b[0m)                   │ (\u001b[38;5;45mNone\u001b[0m, \u001b[38;5;34m256\u001b[0m)            │       \u001b[38;5;34m819,456\u001b[0m │\n",
              "├─────────────────────────────────┼────────────────────────┼───────────────┤\n",
              "│ dropout (\u001b[38;5;33mDropout\u001b[0m)               │ (\u001b[38;5;45mNone\u001b[0m, \u001b[38;5;34m256\u001b[0m)            │             \u001b[38;5;34m0\u001b[0m │\n",
              "├─────────────────────────────────┼────────────────────────┼───────────────┤\n",
              "│ dense_1 (\u001b[38;5;33mDense\u001b[0m)                 │ (\u001b[38;5;45mNone\u001b[0m, \u001b[38;5;34m5\u001b[0m)              │         \u001b[38;5;34m1,285\u001b[0m │\n",
              "└─────────────────────────────────┴────────────────────────┴───────────────┘\n"
            ],
            "text/html": [
              "<pre style=\"white-space:pre;overflow-x:auto;line-height:normal;font-family:Menlo,'DejaVu Sans Mono',consolas,'Courier New',monospace\">┏━━━━━━━━━━━━━━━━━━━━━━━━━━━━━━━━━┳━━━━━━━━━━━━━━━━━━━━━━━━┳━━━━━━━━━━━━━━━┓\n",
              "┃<span style=\"font-weight: bold\"> Layer (type)                    </span>┃<span style=\"font-weight: bold\"> Output Shape           </span>┃<span style=\"font-weight: bold\">       Param # </span>┃\n",
              "┡━━━━━━━━━━━━━━━━━━━━━━━━━━━━━━━━━╇━━━━━━━━━━━━━━━━━━━━━━━━╇━━━━━━━━━━━━━━━┩\n",
              "│ conv2d (<span style=\"color: #0087ff; text-decoration-color: #0087ff\">Conv2D</span>)                 │ (<span style=\"color: #00d7ff; text-decoration-color: #00d7ff\">None</span>, <span style=\"color: #00af00; text-decoration-color: #00af00\">26</span>, <span style=\"color: #00af00; text-decoration-color: #00af00\">26</span>, <span style=\"color: #00af00; text-decoration-color: #00af00\">64</span>)     │           <span style=\"color: #00af00; text-decoration-color: #00af00\">640</span> │\n",
              "├─────────────────────────────────┼────────────────────────┼───────────────┤\n",
              "│ max_pooling2d (<span style=\"color: #0087ff; text-decoration-color: #0087ff\">MaxPooling2D</span>)    │ (<span style=\"color: #00d7ff; text-decoration-color: #00d7ff\">None</span>, <span style=\"color: #00af00; text-decoration-color: #00af00\">13</span>, <span style=\"color: #00af00; text-decoration-color: #00af00\">13</span>, <span style=\"color: #00af00; text-decoration-color: #00af00\">64</span>)     │             <span style=\"color: #00af00; text-decoration-color: #00af00\">0</span> │\n",
              "├─────────────────────────────────┼────────────────────────┼───────────────┤\n",
              "│ conv2d_1 (<span style=\"color: #0087ff; text-decoration-color: #0087ff\">Conv2D</span>)               │ (<span style=\"color: #00d7ff; text-decoration-color: #00d7ff\">None</span>, <span style=\"color: #00af00; text-decoration-color: #00af00\">11</span>, <span style=\"color: #00af00; text-decoration-color: #00af00\">11</span>, <span style=\"color: #00af00; text-decoration-color: #00af00\">128</span>)    │        <span style=\"color: #00af00; text-decoration-color: #00af00\">73,856</span> │\n",
              "├─────────────────────────────────┼────────────────────────┼───────────────┤\n",
              "│ max_pooling2d_1 (<span style=\"color: #0087ff; text-decoration-color: #0087ff\">MaxPooling2D</span>)  │ (<span style=\"color: #00d7ff; text-decoration-color: #00d7ff\">None</span>, <span style=\"color: #00af00; text-decoration-color: #00af00\">5</span>, <span style=\"color: #00af00; text-decoration-color: #00af00\">5</span>, <span style=\"color: #00af00; text-decoration-color: #00af00\">128</span>)      │             <span style=\"color: #00af00; text-decoration-color: #00af00\">0</span> │\n",
              "├─────────────────────────────────┼────────────────────────┼───────────────┤\n",
              "│ flatten (<span style=\"color: #0087ff; text-decoration-color: #0087ff\">Flatten</span>)               │ (<span style=\"color: #00d7ff; text-decoration-color: #00d7ff\">None</span>, <span style=\"color: #00af00; text-decoration-color: #00af00\">3200</span>)           │             <span style=\"color: #00af00; text-decoration-color: #00af00\">0</span> │\n",
              "├─────────────────────────────────┼────────────────────────┼───────────────┤\n",
              "│ dense (<span style=\"color: #0087ff; text-decoration-color: #0087ff\">Dense</span>)                   │ (<span style=\"color: #00d7ff; text-decoration-color: #00d7ff\">None</span>, <span style=\"color: #00af00; text-decoration-color: #00af00\">256</span>)            │       <span style=\"color: #00af00; text-decoration-color: #00af00\">819,456</span> │\n",
              "├─────────────────────────────────┼────────────────────────┼───────────────┤\n",
              "│ dropout (<span style=\"color: #0087ff; text-decoration-color: #0087ff\">Dropout</span>)               │ (<span style=\"color: #00d7ff; text-decoration-color: #00d7ff\">None</span>, <span style=\"color: #00af00; text-decoration-color: #00af00\">256</span>)            │             <span style=\"color: #00af00; text-decoration-color: #00af00\">0</span> │\n",
              "├─────────────────────────────────┼────────────────────────┼───────────────┤\n",
              "│ dense_1 (<span style=\"color: #0087ff; text-decoration-color: #0087ff\">Dense</span>)                 │ (<span style=\"color: #00d7ff; text-decoration-color: #00d7ff\">None</span>, <span style=\"color: #00af00; text-decoration-color: #00af00\">5</span>)              │         <span style=\"color: #00af00; text-decoration-color: #00af00\">1,285</span> │\n",
              "└─────────────────────────────────┴────────────────────────┴───────────────┘\n",
              "</pre>\n"
            ]
          },
          "metadata": {}
        },
        {
          "output_type": "display_data",
          "data": {
            "text/plain": [
              "\u001b[1m Total params: \u001b[0m\u001b[38;5;34m895,237\u001b[0m (3.42 MB)\n"
            ],
            "text/html": [
              "<pre style=\"white-space:pre;overflow-x:auto;line-height:normal;font-family:Menlo,'DejaVu Sans Mono',consolas,'Courier New',monospace\"><span style=\"font-weight: bold\"> Total params: </span><span style=\"color: #00af00; text-decoration-color: #00af00\">895,237</span> (3.42 MB)\n",
              "</pre>\n"
            ]
          },
          "metadata": {}
        },
        {
          "output_type": "display_data",
          "data": {
            "text/plain": [
              "\u001b[1m Trainable params: \u001b[0m\u001b[38;5;34m895,237\u001b[0m (3.42 MB)\n"
            ],
            "text/html": [
              "<pre style=\"white-space:pre;overflow-x:auto;line-height:normal;font-family:Menlo,'DejaVu Sans Mono',consolas,'Courier New',monospace\"><span style=\"font-weight: bold\"> Trainable params: </span><span style=\"color: #00af00; text-decoration-color: #00af00\">895,237</span> (3.42 MB)\n",
              "</pre>\n"
            ]
          },
          "metadata": {}
        },
        {
          "output_type": "display_data",
          "data": {
            "text/plain": [
              "\u001b[1m Non-trainable params: \u001b[0m\u001b[38;5;34m0\u001b[0m (0.00 B)\n"
            ],
            "text/html": [
              "<pre style=\"white-space:pre;overflow-x:auto;line-height:normal;font-family:Menlo,'DejaVu Sans Mono',consolas,'Courier New',monospace\"><span style=\"font-weight: bold\"> Non-trainable params: </span><span style=\"color: #00af00; text-decoration-color: #00af00\">0</span> (0.00 B)\n",
              "</pre>\n"
            ]
          },
          "metadata": {}
        },
        {
          "output_type": "stream",
          "name": "stdout",
          "text": [
            "\n",
            "--- Starting CNN training ---\n",
            "Epoch 1/10\n",
            "\u001b[1m4164/4164\u001b[0m \u001b[32m━━━━━━━━━━━━━━━━━━━━\u001b[0m\u001b[37m\u001b[0m \u001b[1m37s\u001b[0m 7ms/step - accuracy: 0.9343 - loss: 0.1972 - val_accuracy: 0.9756 - val_loss: 0.0743\n",
            "Epoch 2/10\n",
            "\u001b[1m4164/4164\u001b[0m \u001b[32m━━━━━━━━━━━━━━━━━━━━\u001b[0m\u001b[37m\u001b[0m \u001b[1m34s\u001b[0m 6ms/step - accuracy: 0.9772 - loss: 0.0701 - val_accuracy: 0.9805 - val_loss: 0.0593\n",
            "Epoch 3/10\n",
            "\u001b[1m4164/4164\u001b[0m \u001b[32m━━━━━━━━━━━━━━━━━━━━\u001b[0m\u001b[37m\u001b[0m \u001b[1m28s\u001b[0m 7ms/step - accuracy: 0.9823 - loss: 0.0543 - val_accuracy: 0.9827 - val_loss: 0.0536\n",
            "Epoch 4/10\n",
            "\u001b[1m4164/4164\u001b[0m \u001b[32m━━━━━━━━━━━━━━━━━━━━\u001b[0m\u001b[37m\u001b[0m \u001b[1m27s\u001b[0m 6ms/step - accuracy: 0.9848 - loss: 0.0455 - val_accuracy: 0.9830 - val_loss: 0.0533\n",
            "Epoch 5/10\n",
            "\u001b[1m4164/4164\u001b[0m \u001b[32m━━━━━━━━━━━━━━━━━━━━\u001b[0m\u001b[37m\u001b[0m \u001b[1m27s\u001b[0m 6ms/step - accuracy: 0.9865 - loss: 0.0396 - val_accuracy: 0.9831 - val_loss: 0.0553\n",
            "Epoch 6/10\n",
            "\u001b[1m4164/4164\u001b[0m \u001b[32m━━━━━━━━━━━━━━━━━━━━\u001b[0m\u001b[37m\u001b[0m \u001b[1m27s\u001b[0m 6ms/step - accuracy: 0.9880 - loss: 0.0348 - val_accuracy: 0.9834 - val_loss: 0.0553\n",
            "Epoch 7/10\n",
            "\u001b[1m4164/4164\u001b[0m \u001b[32m━━━━━━━━━━━━━━━━━━━━\u001b[0m\u001b[37m\u001b[0m \u001b[1m30s\u001b[0m 7ms/step - accuracy: 0.9891 - loss: 0.0312 - val_accuracy: 0.9837 - val_loss: 0.0570\n"
          ]
        }
      ],
      "source": [
        "num_classes = len(CATEGORIES)\n",
        "\n",
        "cnn_model = tf.keras.models.Sequential([\n",
        "    tf.keras.layers.Conv2D(64, (3, 3), activation='relu', input_shape=(28, 28, 1)),\n",
        "    tf.keras.layers.MaxPooling2D((2, 2)),\n",
        "    tf.keras.layers.Conv2D(128, (3, 3), activation='relu'),\n",
        "    tf.keras.layers.MaxPooling2D((2, 2)),\n",
        "    tf.keras.layers.Flatten(),\n",
        "    tf.keras.layers.Dense(256, activation='relu'),\n",
        "    tf.keras.layers.Dropout(0.5),\n",
        "    tf.keras.layers.Dense(num_classes, activation='softmax')\n",
        "])\n",
        "\n",
        "cnn_model.compile(optimizer='adam', loss='sparse_categorical_crossentropy', metrics=['accuracy'])\n",
        "cnn_model.summary()\n",
        "\n",
        "x_train_cnn, x_val_cnn, y_train_cnn, y_val_cnn = train_test_split(\n",
        "    final_images, final_labels_cnn, test_size=0.2, random_state=42, stratify=final_labels_cnn\n",
        ")\n",
        "\n",
        "BATCH_SIZE_CNN = 128\n",
        "train_dataset_cnn = tf.data.Dataset.from_tensor_slices((x_train_cnn, y_train_cnn)).shuffle(len(x_train_cnn)).batch(BATCH_SIZE_CNN).prefetch(tf.data.AUTOTUNE)\n",
        "val_dataset_cnn = tf.data.Dataset.from_tensor_slices((x_val_cnn, y_val_cnn)).batch(BATCH_SIZE_CNN).prefetch(tf.data.AUTOTUNE)\n",
        "\n",
        "print(\"\\n--- Starting CNN training ---\")\n",
        "early_stopping = EarlyStopping(monitor='val_loss', patience=3, restore_best_weights=True)\n",
        "cnn_history = cnn_model.fit(train_dataset_cnn, epochs=10, validation_data=val_dataset_cnn, callbacks=[early_stopping])"
      ]
    },
    {
      "cell_type": "markdown",
      "metadata": {
        "id": "gxZYJjPEeema"
      },
      "source": [
        "### 1.3. Save CNN Model"
      ]
    },
    {
      "cell_type": "code",
      "execution_count": 4,
      "metadata": {
        "colab": {
          "base_uri": "https://localhost:8080/"
        },
        "id": "lpxhF7Weeema",
        "outputId": "a674f849-372b-45bc-b380-0d8be8bad953"
      },
      "outputs": [
        {
          "output_type": "stream",
          "name": "stdout",
          "text": [
            "\n",
            "CNN model successfully saved as cnn_model_tf.keras\n"
          ]
        }
      ],
      "source": [
        "cnn_model.save('cnn_model_tf.keras')\n",
        "print(\"\\nCNN model successfully saved as cnn_model_tf.keras\")"
      ]
    },
    {
      "cell_type": "markdown",
      "metadata": {
        "id": "uD4y50Tweemb"
      },
      "source": [
        "---\n",
        "\n",
        "## Memory Cleanup\n",
        "Before training the next model, we clear the memory to prevent resource exhaustion."
      ]
    },
    {
      "cell_type": "code",
      "execution_count": 5,
      "metadata": {
        "colab": {
          "base_uri": "https://localhost:8080/"
        },
        "id": "6uNvB4HQeemb",
        "outputId": "0cca0e26-ef0a-4bc8-edd5-a6a954e828d4"
      },
      "outputs": [
        {
          "output_type": "stream",
          "name": "stdout",
          "text": [
            "Memory cleared. Ready for the RNN model.\n"
          ]
        }
      ],
      "source": [
        "del final_images, final_labels_cnn, x_train_cnn, x_val_cnn, y_train_cnn, y_val_cnn, cnn_model, train_dataset_cnn, val_dataset_cnn\n",
        "tf.keras.backend.clear_session()\n",
        "gc.collect()\n",
        "print(\"Memory cleared. Ready for the RNN model.\")"
      ]
    },
    {
      "cell_type": "markdown",
      "metadata": {
        "id": "p-erzXHveemb"
      },
      "source": [
        "---\n",
        "\n",
        "## Part 2: RNN Model Training (Stroke Analysis)"
      ]
    },
    {
      "cell_type": "markdown",
      "metadata": {
        "id": "cwpPlrO3eemc"
      },
      "source": [
        "### 2.1. RNN Data Preparation (Strokes)"
      ]
    },
    {
      "cell_type": "code",
      "execution_count": 6,
      "metadata": {
        "colab": {
          "base_uri": "https://localhost:8080/"
        },
        "id": "4MNuxIsoeemc",
        "outputId": "9801a7bc-d8a3-4856-d4a3-663f7e9dabfb"
      },
      "outputs": [
        {
          "output_type": "stream",
          "name": "stdout",
          "text": [
            "--- Downloading data for the RNN ---\n",
            "Downloading cat.ndjson...\n",
            "Downloading bicycle.ndjson...\n",
            "Downloading tree.ndjson...\n",
            "Downloading fish.ndjson...\n",
            "Downloading star.ndjson...\n",
            "Processing cat...\n",
            "Processing bicycle...\n",
            "Processing tree...\n",
            "Processing fish...\n",
            "Processing star...\n",
            "\n",
            "Stroke processing complete. Shape: (500000, 200, 3)\n"
          ]
        }
      ],
      "source": [
        "BASE_URL_STROKE = \"https://storage.googleapis.com/quickdraw_dataset/full/simplified/\"\n",
        "RAW_DATA_DIR_RNN = \"data/raw_strokes\"\n",
        "MAX_SEQ_LENGTH = 200\n",
        "MAX_DRAWINGS_PER_CATEGORY = 100000  # OPTIMIZATION: Limit drawings to prevent RAM overflow\n",
        "\n",
        "if not os.path.exists(RAW_DATA_DIR_RNN):\n",
        "    os.makedirs(RAW_DATA_DIR_RNN)\n",
        "\n",
        "print(\"--- Downloading data for the RNN ---\")\n",
        "for category in CATEGORIES:\n",
        "    url = f\"{BASE_URL_STROKE}{category}.ndjson\"\n",
        "    filepath = os.path.join(RAW_DATA_DIR_RNN, f\"{category}.ndjson\")\n",
        "    if not os.path.exists(filepath):\n",
        "        print(f\"Downloading {category}.ndjson...\")\n",
        "        urllib.request.urlretrieve(url, filepath)\n",
        "    else:\n",
        "        print(f\"{category}.ndjson already exists.\")\n",
        "\n",
        "def strokes_to_sequence(strokes):\n",
        "    \"\"\"Converts raw stroke data into a sequence of [x, y, pen_state] points.\"\"\"\n",
        "    sequence = []\n",
        "    for stroke in strokes:\n",
        "        for i in range(len(stroke[0])):\n",
        "            pen_state = 1 if i == 0 else 0\n",
        "            sequence.append([stroke[0][i], stroke[1][i], pen_state])\n",
        "    return np.array(sequence[:MAX_SEQ_LENGTH], dtype=np.float32)\n",
        "\n",
        "all_sequences = []\n",
        "all_labels_rnn = []\n",
        "for i, category in enumerate(CATEGORIES):\n",
        "    filepath = os.path.join(RAW_DATA_DIR_RNN, f\"{category}.ndjson\")\n",
        "    print(f\"Processing {category}...\")\n",
        "    with open(filepath, 'r') as f:\n",
        "        for count, line in enumerate(f):\n",
        "            if count >= MAX_DRAWINGS_PER_CATEGORY:\n",
        "                break\n",
        "\n",
        "            drawing = json.loads(line)\n",
        "            seq = strokes_to_sequence(drawing['drawing'])\n",
        "            padded_seq = np.zeros((MAX_SEQ_LENGTH, 3), dtype=np.float32)\n",
        "            padded_seq[:len(seq)] = seq\n",
        "            all_sequences.append(padded_seq)\n",
        "            all_labels_rnn.append(i)\n",
        "\n",
        "final_sequences = np.stack(all_sequences, axis=0)\n",
        "final_labels_rnn = np.array(all_labels_rnn, dtype=np.uint8)\n",
        "print(f\"\\nStroke processing complete. Shape: {final_sequences.shape}\")"
      ]
    },
    {
      "cell_type": "markdown",
      "metadata": {
        "id": "XMLEQYT9eemc"
      },
      "source": [
        "### 2.2. RNN Model Definition and Training"
      ]
    },
    {
      "cell_type": "code",
      "execution_count": 7,
      "metadata": {
        "colab": {
          "base_uri": "https://localhost:8080/",
          "height": 882
        },
        "id": "pBxLHPnqeemd",
        "outputId": "668ce4af-785c-4935-8687-1e2ea5778ce2"
      },
      "outputs": [
        {
          "output_type": "stream",
          "name": "stderr",
          "text": [
            "/usr/local/lib/python3.11/dist-packages/keras/src/layers/rnn/rnn.py:200: UserWarning: Do not pass an `input_shape`/`input_dim` argument to a layer. When using Sequential models, prefer using an `Input(shape)` object as the first layer in the model instead.\n",
            "  super().__init__(**kwargs)\n"
          ]
        },
        {
          "output_type": "display_data",
          "data": {
            "text/plain": [
              "\u001b[1mModel: \"sequential\"\u001b[0m\n"
            ],
            "text/html": [
              "<pre style=\"white-space:pre;overflow-x:auto;line-height:normal;font-family:Menlo,'DejaVu Sans Mono',consolas,'Courier New',monospace\"><span style=\"font-weight: bold\">Model: \"sequential\"</span>\n",
              "</pre>\n"
            ]
          },
          "metadata": {}
        },
        {
          "output_type": "display_data",
          "data": {
            "text/plain": [
              "┏━━━━━━━━━━━━━━━━━━━━━━━━━━━━━━━━━┳━━━━━━━━━━━━━━━━━━━━━━━━┳━━━━━━━━━━━━━━━┓\n",
              "┃\u001b[1m \u001b[0m\u001b[1mLayer (type)                   \u001b[0m\u001b[1m \u001b[0m┃\u001b[1m \u001b[0m\u001b[1mOutput Shape          \u001b[0m\u001b[1m \u001b[0m┃\u001b[1m \u001b[0m\u001b[1m      Param #\u001b[0m\u001b[1m \u001b[0m┃\n",
              "┡━━━━━━━━━━━━━━━━━━━━━━━━━━━━━━━━━╇━━━━━━━━━━━━━━━━━━━━━━━━╇━━━━━━━━━━━━━━━┩\n",
              "│ lstm (\u001b[38;5;33mLSTM\u001b[0m)                     │ (\u001b[38;5;45mNone\u001b[0m, \u001b[38;5;34m200\u001b[0m, \u001b[38;5;34m256\u001b[0m)       │       \u001b[38;5;34m266,240\u001b[0m │\n",
              "├─────────────────────────────────┼────────────────────────┼───────────────┤\n",
              "│ lstm_1 (\u001b[38;5;33mLSTM\u001b[0m)                   │ (\u001b[38;5;45mNone\u001b[0m, \u001b[38;5;34m256\u001b[0m)            │       \u001b[38;5;34m525,312\u001b[0m │\n",
              "├─────────────────────────────────┼────────────────────────┼───────────────┤\n",
              "│ dropout (\u001b[38;5;33mDropout\u001b[0m)               │ (\u001b[38;5;45mNone\u001b[0m, \u001b[38;5;34m256\u001b[0m)            │             \u001b[38;5;34m0\u001b[0m │\n",
              "├─────────────────────────────────┼────────────────────────┼───────────────┤\n",
              "│ dense (\u001b[38;5;33mDense\u001b[0m)                   │ (\u001b[38;5;45mNone\u001b[0m, \u001b[38;5;34m5\u001b[0m)              │         \u001b[38;5;34m1,285\u001b[0m │\n",
              "└─────────────────────────────────┴────────────────────────┴───────────────┘\n"
            ],
            "text/html": [
              "<pre style=\"white-space:pre;overflow-x:auto;line-height:normal;font-family:Menlo,'DejaVu Sans Mono',consolas,'Courier New',monospace\">┏━━━━━━━━━━━━━━━━━━━━━━━━━━━━━━━━━┳━━━━━━━━━━━━━━━━━━━━━━━━┳━━━━━━━━━━━━━━━┓\n",
              "┃<span style=\"font-weight: bold\"> Layer (type)                    </span>┃<span style=\"font-weight: bold\"> Output Shape           </span>┃<span style=\"font-weight: bold\">       Param # </span>┃\n",
              "┡━━━━━━━━━━━━━━━━━━━━━━━━━━━━━━━━━╇━━━━━━━━━━━━━━━━━━━━━━━━╇━━━━━━━━━━━━━━━┩\n",
              "│ lstm (<span style=\"color: #0087ff; text-decoration-color: #0087ff\">LSTM</span>)                     │ (<span style=\"color: #00d7ff; text-decoration-color: #00d7ff\">None</span>, <span style=\"color: #00af00; text-decoration-color: #00af00\">200</span>, <span style=\"color: #00af00; text-decoration-color: #00af00\">256</span>)       │       <span style=\"color: #00af00; text-decoration-color: #00af00\">266,240</span> │\n",
              "├─────────────────────────────────┼────────────────────────┼───────────────┤\n",
              "│ lstm_1 (<span style=\"color: #0087ff; text-decoration-color: #0087ff\">LSTM</span>)                   │ (<span style=\"color: #00d7ff; text-decoration-color: #00d7ff\">None</span>, <span style=\"color: #00af00; text-decoration-color: #00af00\">256</span>)            │       <span style=\"color: #00af00; text-decoration-color: #00af00\">525,312</span> │\n",
              "├─────────────────────────────────┼────────────────────────┼───────────────┤\n",
              "│ dropout (<span style=\"color: #0087ff; text-decoration-color: #0087ff\">Dropout</span>)               │ (<span style=\"color: #00d7ff; text-decoration-color: #00d7ff\">None</span>, <span style=\"color: #00af00; text-decoration-color: #00af00\">256</span>)            │             <span style=\"color: #00af00; text-decoration-color: #00af00\">0</span> │\n",
              "├─────────────────────────────────┼────────────────────────┼───────────────┤\n",
              "│ dense (<span style=\"color: #0087ff; text-decoration-color: #0087ff\">Dense</span>)                   │ (<span style=\"color: #00d7ff; text-decoration-color: #00d7ff\">None</span>, <span style=\"color: #00af00; text-decoration-color: #00af00\">5</span>)              │         <span style=\"color: #00af00; text-decoration-color: #00af00\">1,285</span> │\n",
              "└─────────────────────────────────┴────────────────────────┴───────────────┘\n",
              "</pre>\n"
            ]
          },
          "metadata": {}
        },
        {
          "output_type": "display_data",
          "data": {
            "text/plain": [
              "\u001b[1m Total params: \u001b[0m\u001b[38;5;34m792,837\u001b[0m (3.02 MB)\n"
            ],
            "text/html": [
              "<pre style=\"white-space:pre;overflow-x:auto;line-height:normal;font-family:Menlo,'DejaVu Sans Mono',consolas,'Courier New',monospace\"><span style=\"font-weight: bold\"> Total params: </span><span style=\"color: #00af00; text-decoration-color: #00af00\">792,837</span> (3.02 MB)\n",
              "</pre>\n"
            ]
          },
          "metadata": {}
        },
        {
          "output_type": "display_data",
          "data": {
            "text/plain": [
              "\u001b[1m Trainable params: \u001b[0m\u001b[38;5;34m792,837\u001b[0m (3.02 MB)\n"
            ],
            "text/html": [
              "<pre style=\"white-space:pre;overflow-x:auto;line-height:normal;font-family:Menlo,'DejaVu Sans Mono',consolas,'Courier New',monospace\"><span style=\"font-weight: bold\"> Trainable params: </span><span style=\"color: #00af00; text-decoration-color: #00af00\">792,837</span> (3.02 MB)\n",
              "</pre>\n"
            ]
          },
          "metadata": {}
        },
        {
          "output_type": "display_data",
          "data": {
            "text/plain": [
              "\u001b[1m Non-trainable params: \u001b[0m\u001b[38;5;34m0\u001b[0m (0.00 B)\n"
            ],
            "text/html": [
              "<pre style=\"white-space:pre;overflow-x:auto;line-height:normal;font-family:Menlo,'DejaVu Sans Mono',consolas,'Courier New',monospace\"><span style=\"font-weight: bold\"> Non-trainable params: </span><span style=\"color: #00af00; text-decoration-color: #00af00\">0</span> (0.00 B)\n",
              "</pre>\n"
            ]
          },
          "metadata": {}
        },
        {
          "output_type": "stream",
          "name": "stdout",
          "text": [
            "\n",
            "--- Starting RNN training ---\n",
            "Epoch 1/15\n",
            "\u001b[1m3125/3125\u001b[0m \u001b[32m━━━━━━━━━━━━━━━━━━━━\u001b[0m\u001b[37m\u001b[0m \u001b[1m201s\u001b[0m 63ms/step - accuracy: 0.5935 - loss: 0.9218 - val_accuracy: 0.9318 - val_loss: 0.2195\n",
            "Epoch 2/15\n",
            "\u001b[1m3125/3125\u001b[0m \u001b[32m━━━━━━━━━━━━━━━━━━━━\u001b[0m\u001b[37m\u001b[0m \u001b[1m201s\u001b[0m 64ms/step - accuracy: 0.9307 - loss: 0.2221 - val_accuracy: 0.9488 - val_loss: 0.1694\n",
            "Epoch 3/15\n",
            "\u001b[1m3125/3125\u001b[0m \u001b[32m━━━━━━━━━━━━━━━━━━━━\u001b[0m\u001b[37m\u001b[0m \u001b[1m201s\u001b[0m 64ms/step - accuracy: 0.9488 - loss: 0.1643 - val_accuracy: 0.9548 - val_loss: 0.1448\n",
            "Epoch 4/15\n",
            "\u001b[1m3125/3125\u001b[0m \u001b[32m━━━━━━━━━━━━━━━━━━━━\u001b[0m\u001b[37m\u001b[0m \u001b[1m202s\u001b[0m 64ms/step - accuracy: 0.9569 - loss: 0.1365 - val_accuracy: 0.9625 - val_loss: 0.1200\n",
            "Epoch 5/15\n",
            "\u001b[1m3125/3125\u001b[0m \u001b[32m━━━━━━━━━━━━━━━━━━━━\u001b[0m\u001b[37m\u001b[0m \u001b[1m203s\u001b[0m 64ms/step - accuracy: 0.9620 - loss: 0.1213 - val_accuracy: 0.9670 - val_loss: 0.1028\n",
            "Epoch 6/15\n",
            "\u001b[1m3125/3125\u001b[0m \u001b[32m━━━━━━━━━━━━━━━━━━━━\u001b[0m\u001b[37m\u001b[0m \u001b[1m202s\u001b[0m 64ms/step - accuracy: 0.9661 - loss: 0.1068 - val_accuracy: 0.9665 - val_loss: 0.1067\n",
            "Epoch 7/15\n",
            "\u001b[1m3125/3125\u001b[0m \u001b[32m━━━━━━━━━━━━━━━━━━━━\u001b[0m\u001b[37m\u001b[0m \u001b[1m201s\u001b[0m 64ms/step - accuracy: 0.9692 - loss: 0.0972 - val_accuracy: 0.9677 - val_loss: 0.1015\n",
            "Epoch 8/15\n",
            "\u001b[1m3125/3125\u001b[0m \u001b[32m━━━━━━━━━━━━━━━━━━━━\u001b[0m\u001b[37m\u001b[0m \u001b[1m201s\u001b[0m 64ms/step - accuracy: 0.9702 - loss: 0.0933 - val_accuracy: 0.9722 - val_loss: 0.0873\n",
            "Epoch 9/15\n",
            "\u001b[1m3125/3125\u001b[0m \u001b[32m━━━━━━━━━━━━━━━━━━━━\u001b[0m\u001b[37m\u001b[0m \u001b[1m204s\u001b[0m 65ms/step - accuracy: 0.9728 - loss: 0.0851 - val_accuracy: 0.9701 - val_loss: 0.0952\n",
            "Epoch 10/15\n",
            "\u001b[1m3125/3125\u001b[0m \u001b[32m━━━━━━━━━━━━━━━━━━━━\u001b[0m\u001b[37m\u001b[0m \u001b[1m202s\u001b[0m 64ms/step - accuracy: 0.9739 - loss: 0.0811 - val_accuracy: 0.9751 - val_loss: 0.0791\n",
            "Epoch 11/15\n",
            "\u001b[1m3125/3125\u001b[0m \u001b[32m━━━━━━━━━━━━━━━━━━━━\u001b[0m\u001b[37m\u001b[0m \u001b[1m201s\u001b[0m 64ms/step - accuracy: 0.9751 - loss: 0.0783 - val_accuracy: 0.9754 - val_loss: 0.0788\n",
            "Epoch 12/15\n",
            "\u001b[1m3125/3125\u001b[0m \u001b[32m━━━━━━━━━━━━━━━━━━━━\u001b[0m\u001b[37m\u001b[0m \u001b[1m204s\u001b[0m 65ms/step - accuracy: 0.9769 - loss: 0.0721 - val_accuracy: 0.9738 - val_loss: 0.0819\n",
            "Epoch 13/15\n",
            "\u001b[1m3125/3125\u001b[0m \u001b[32m━━━━━━━━━━━━━━━━━━━━\u001b[0m\u001b[37m\u001b[0m \u001b[1m262s\u001b[0m 65ms/step - accuracy: 0.9774 - loss: 0.0701 - val_accuracy: 0.9769 - val_loss: 0.0746\n",
            "Epoch 14/15\n",
            "\u001b[1m3125/3125\u001b[0m \u001b[32m━━━━━━━━━━━━━━━━━━━━\u001b[0m\u001b[37m\u001b[0m \u001b[1m202s\u001b[0m 64ms/step - accuracy: 0.9774 - loss: 0.0698 - val_accuracy: 0.9759 - val_loss: 0.0771\n",
            "Epoch 15/15\n",
            "\u001b[1m3125/3125\u001b[0m \u001b[32m━━━━━━━━━━━━━━━━━━━━\u001b[0m\u001b[37m\u001b[0m \u001b[1m204s\u001b[0m 65ms/step - accuracy: 0.9789 - loss: 0.0661 - val_accuracy: 0.9744 - val_loss: 0.0866\n"
          ]
        }
      ],
      "source": [
        "def create_rnn_model(input_shape, num_classes):\n",
        "    model = tf.keras.Sequential([\n",
        "        tf.keras.layers.LSTM(256, return_sequences=True, input_shape=input_shape),\n",
        "        tf.keras.layers.LSTM(256),\n",
        "        tf.keras.layers.Dropout(0.5),\n",
        "        tf.keras.layers.Dense(num_classes, activation='softmax')\n",
        "    ])\n",
        "    return model\n",
        "\n",
        "input_shape = (MAX_SEQ_LENGTH, 3)\n",
        "num_classes = len(CATEGORIES)\n",
        "rnn_model = create_rnn_model(input_shape, num_classes)\n",
        "\n",
        "rnn_model.compile(optimizer='adam', loss='sparse_categorical_crossentropy', metrics=['accuracy'])\n",
        "rnn_model.summary()\n",
        "\n",
        "x_train_rnn, x_val_rnn, y_train_rnn, y_val_rnn = train_test_split(\n",
        "    final_sequences, final_labels_rnn, test_size=0.2, random_state=42, stratify=final_labels_rnn\n",
        ")\n",
        "\n",
        "BATCH_SIZE_RNN = 128\n",
        "train_dataset_rnn = tf.data.Dataset.from_tensor_slices((x_train_rnn, y_train_rnn)).shuffle(len(x_train_rnn)).batch(BATCH_SIZE_RNN).prefetch(tf.data.AUTOTUNE)\n",
        "val_dataset_rnn = tf.data.Dataset.from_tensor_slices((x_val_rnn, y_val_rnn)).batch(BATCH_SIZE_RNN).prefetch(tf.data.AUTOTUNE)\n",
        "\n",
        "print(\"\\n--- Starting RNN training ---\")\n",
        "early_stopping_rnn = EarlyStopping(monitor='val_loss', patience=3, restore_best_weights=True)\n",
        "rnn_history = rnn_model.fit(train_dataset_rnn, epochs=15, validation_data=val_dataset_rnn, callbacks=[early_stopping_rnn])"
      ]
    },
    {
      "cell_type": "markdown",
      "metadata": {
        "id": "4dRQ8anQeemd"
      },
      "source": [
        "### 2.3. Save RNN Model"
      ]
    },
    {
      "cell_type": "code",
      "execution_count": 8,
      "metadata": {
        "colab": {
          "base_uri": "https://localhost:8080/"
        },
        "id": "pagsebP3eemd",
        "outputId": "19357706-0944-43fa-a1f8-57317212205e"
      },
      "outputs": [
        {
          "output_type": "stream",
          "name": "stdout",
          "text": [
            "\n",
            "RNN model successfully saved as rnn_model_tf.keras\n"
          ]
        }
      ],
      "source": [
        "rnn_model.save('rnn_model_tf.keras')\n",
        "print(\"\\nRNN model successfully saved as rnn_model_tf.keras\")"
      ]
    },
    {
      "cell_type": "markdown",
      "metadata": {
        "id": "6R3e0vTLeemd"
      },
      "source": [
        "---\n",
        "\n",
        "## Conclusion\n",
        "Training complete! The following files have been generated and are ready to be used in the FastAPI backend:\n",
        "- `cnn_model_tf.keras`\n",
        "- `rnn_model_tf.keras`"
      ]
    }
  ],
  "metadata": {
    "kernelspec": {
      "display_name": "Python 3",
      "name": "python3"
    },
    "language_info": {
      "codemirror_mode": {
        "name": "ipython",
        "version": 3
      },
      "file_extension": ".py",
      "mimetype": "text/x-python",
      "name": "python",
      "nbconvert_exporter": "python",
      "pygments_lexer": "ipython3",
      "version": "3.9.12"
    },
    "colab": {
      "provenance": [],
      "gpuType": "T4"
    },
    "accelerator": "GPU"
  },
  "nbformat": 4,
  "nbformat_minor": 0
}